{
 "cells": [
  {
   "cell_type": "markdown",
   "id": "9fb8ff85",
   "metadata": {},
   "source": [
    "## Data Collection & Labeling\n"
   ]
  },
  {
   "cell_type": "markdown",
   "id": "001e5609",
   "metadata": {},
   "source": [
    "### 1. Load and Inspect the Dataset"
   ]
  },
  {
   "cell_type": "code",
   "execution_count": 1,
   "id": "d2385d1c",
   "metadata": {},
   "outputs": [],
   "source": [
    "import pandas as pd\n",
    "\n",
    "# Load the dataset\n",
    "df = pd.read_csv(\"Amazon-Deutsch-Dataset.csv\")"
   ]
  },
  {
   "cell_type": "code",
   "execution_count": 2,
   "id": "90b61726",
   "metadata": {},
   "outputs": [
    {
     "name": "stdout",
     "output_type": "stream",
     "text": [
      "<class 'pandas.core.frame.DataFrame'>\n",
      "RangeIndex: 3413 entries, 0 to 3412\n",
      "Data columns (total 11 columns):\n",
      " #   Column                 Non-Null Count  Dtype  \n",
      "---  ------                 --------------  -----  \n",
      " 0   Unnamed: 0             3413 non-null   int64  \n",
      " 1   web-scraper-order      3413 non-null   object \n",
      " 2   web-scraper-start-url  3413 non-null   object \n",
      " 3   author                 3409 non-null   object \n",
      " 4   title                  3409 non-null   object \n",
      " 5   date                   3409 non-null   object \n",
      " 6   content                3409 non-null   object \n",
      " 7   rating                 3409 non-null   object \n",
      " 8   next                   3299 non-null   object \n",
      " 9   next-href              3303 non-null   object \n",
      " 10  Unnamed: 9             0 non-null      float64\n",
      "dtypes: float64(1), int64(1), object(9)\n",
      "memory usage: 293.4+ KB\n"
     ]
    }
   ],
   "source": [
    "# Check dataset info\n",
    "df.info()"
   ]
  },
  {
   "cell_type": "code",
   "execution_count": 3,
   "id": "80c8b5e4",
   "metadata": {},
   "outputs": [
    {
     "data": {
      "text/html": [
       "<div>\n",
       "<style scoped>\n",
       "    .dataframe tbody tr th:only-of-type {\n",
       "        vertical-align: middle;\n",
       "    }\n",
       "\n",
       "    .dataframe tbody tr th {\n",
       "        vertical-align: top;\n",
       "    }\n",
       "\n",
       "    .dataframe thead th {\n",
       "        text-align: right;\n",
       "    }\n",
       "</style>\n",
       "<table border=\"1\" class=\"dataframe\">\n",
       "  <thead>\n",
       "    <tr style=\"text-align: right;\">\n",
       "      <th></th>\n",
       "      <th>Unnamed: 0</th>\n",
       "      <th>Unnamed: 9</th>\n",
       "    </tr>\n",
       "  </thead>\n",
       "  <tbody>\n",
       "    <tr>\n",
       "      <th>count</th>\n",
       "      <td>3413.000000</td>\n",
       "      <td>0.0</td>\n",
       "    </tr>\n",
       "    <tr>\n",
       "      <th>mean</th>\n",
       "      <td>1706.000000</td>\n",
       "      <td>NaN</td>\n",
       "    </tr>\n",
       "    <tr>\n",
       "      <th>std</th>\n",
       "      <td>985.392561</td>\n",
       "      <td>NaN</td>\n",
       "    </tr>\n",
       "    <tr>\n",
       "      <th>min</th>\n",
       "      <td>0.000000</td>\n",
       "      <td>NaN</td>\n",
       "    </tr>\n",
       "    <tr>\n",
       "      <th>25%</th>\n",
       "      <td>853.000000</td>\n",
       "      <td>NaN</td>\n",
       "    </tr>\n",
       "    <tr>\n",
       "      <th>50%</th>\n",
       "      <td>1706.000000</td>\n",
       "      <td>NaN</td>\n",
       "    </tr>\n",
       "    <tr>\n",
       "      <th>75%</th>\n",
       "      <td>2559.000000</td>\n",
       "      <td>NaN</td>\n",
       "    </tr>\n",
       "    <tr>\n",
       "      <th>max</th>\n",
       "      <td>3412.000000</td>\n",
       "      <td>NaN</td>\n",
       "    </tr>\n",
       "  </tbody>\n",
       "</table>\n",
       "</div>"
      ],
      "text/plain": [
       "        Unnamed: 0  Unnamed: 9\n",
       "count  3413.000000         0.0\n",
       "mean   1706.000000         NaN\n",
       "std     985.392561         NaN\n",
       "min       0.000000         NaN\n",
       "25%     853.000000         NaN\n",
       "50%    1706.000000         NaN\n",
       "75%    2559.000000         NaN\n",
       "max    3412.000000         NaN"
      ]
     },
     "execution_count": 3,
     "metadata": {},
     "output_type": "execute_result"
    }
   ],
   "source": [
    "# Describe numerical columns\n",
    "df.describe()"
   ]
  },
  {
   "cell_type": "code",
   "execution_count": 4,
   "id": "96cf75b2",
   "metadata": {},
   "outputs": [
    {
     "name": "stdout",
     "output_type": "stream",
     "text": [
      "\n",
      "Missing values per column:\n",
      " Unnamed: 0                  0\n",
      "web-scraper-order           0\n",
      "web-scraper-start-url       0\n",
      "author                      4\n",
      "title                       4\n",
      "date                        4\n",
      "content                     4\n",
      "rating                      4\n",
      "next                      114\n",
      "next-href                 110\n",
      "Unnamed: 9               3413\n",
      "dtype: int64\n"
     ]
    }
   ],
   "source": [
    "# Check for missing values\n",
    "print(\"\\nMissing values per column:\\n\", df.isnull().sum())"
   ]
  },
  {
   "cell_type": "code",
   "execution_count": 5,
   "id": "79954691",
   "metadata": {},
   "outputs": [
    {
     "data": {
      "text/html": [
       "<div>\n",
       "<style scoped>\n",
       "    .dataframe tbody tr th:only-of-type {\n",
       "        vertical-align: middle;\n",
       "    }\n",
       "\n",
       "    .dataframe tbody tr th {\n",
       "        vertical-align: top;\n",
       "    }\n",
       "\n",
       "    .dataframe thead th {\n",
       "        text-align: right;\n",
       "    }\n",
       "</style>\n",
       "<table border=\"1\" class=\"dataframe\">\n",
       "  <thead>\n",
       "    <tr style=\"text-align: right;\">\n",
       "      <th></th>\n",
       "      <th>Unnamed: 0</th>\n",
       "      <th>web-scraper-order</th>\n",
       "      <th>web-scraper-start-url</th>\n",
       "      <th>author</th>\n",
       "      <th>title</th>\n",
       "      <th>date</th>\n",
       "      <th>content</th>\n",
       "      <th>rating</th>\n",
       "      <th>next</th>\n",
       "      <th>next-href</th>\n",
       "      <th>Unnamed: 9</th>\n",
       "    </tr>\n",
       "  </thead>\n",
       "  <tbody>\n",
       "    <tr>\n",
       "      <th>0</th>\n",
       "      <td>0</td>\n",
       "      <td>1582056286-2631</td>\n",
       "      <td>https://www.amazon.de/Apple-iPhone-11-128-GB-S...</td>\n",
       "      <td>MHS</td>\n",
       "      <td>Das Beste iPhone aller Zeiten</td>\n",
       "      <td>5. Januar 2020</td>\n",
       "      <td>Ich bin sehr zufrieden mit dem iPhone 11. Der ...</td>\n",
       "      <td>5,0 von 5 Sternen</td>\n",
       "      <td>Weiter→</td>\n",
       "      <td>https://www.amazon.de/Apple-iPhone-11-128-GB-S...</td>\n",
       "      <td>NaN</td>\n",
       "    </tr>\n",
       "    <tr>\n",
       "      <th>1</th>\n",
       "      <td>1</td>\n",
       "      <td>1582056184-2351</td>\n",
       "      <td>https://www.amazon.de/Apple-iPhone-11-128-GB-S...</td>\n",
       "      <td>Amazon Customer</td>\n",
       "      <td>besser als beim hersteller</td>\n",
       "      <td>21. September 2019</td>\n",
       "      <td>gestern bestellt, heute geliefert. besser geht...</td>\n",
       "      <td>5,0 von 5 Sternen</td>\n",
       "      <td>NaN</td>\n",
       "      <td>NaN</td>\n",
       "      <td>NaN</td>\n",
       "    </tr>\n",
       "  </tbody>\n",
       "</table>\n",
       "</div>"
      ],
      "text/plain": [
       "   Unnamed: 0 web-scraper-order  \\\n",
       "0           0   1582056286-2631   \n",
       "1           1   1582056184-2351   \n",
       "\n",
       "                               web-scraper-start-url           author  \\\n",
       "0  https://www.amazon.de/Apple-iPhone-11-128-GB-S...              MHS   \n",
       "1  https://www.amazon.de/Apple-iPhone-11-128-GB-S...  Amazon Customer   \n",
       "\n",
       "                           title                date  \\\n",
       "0  Das Beste iPhone aller Zeiten      5. Januar 2020   \n",
       "1     besser als beim hersteller  21. September 2019   \n",
       "\n",
       "                                             content             rating  \\\n",
       "0  Ich bin sehr zufrieden mit dem iPhone 11. Der ...  5,0 von 5 Sternen   \n",
       "1  gestern bestellt, heute geliefert. besser geht...  5,0 von 5 Sternen   \n",
       "\n",
       "      next                                          next-href  Unnamed: 9  \n",
       "0  Weiter→  https://www.amazon.de/Apple-iPhone-11-128-GB-S...         NaN  \n",
       "1      NaN                                                NaN         NaN  "
      ]
     },
     "execution_count": 5,
     "metadata": {},
     "output_type": "execute_result"
    }
   ],
   "source": [
    "# Preview first few rows\n",
    "df.head(2)"
   ]
  },
  {
   "cell_type": "markdown",
   "id": "cbc9cd56",
   "metadata": {},
   "source": [
    "### 2. Clean Column Names and Extract Numeric Ratings"
   ]
  },
  {
   "cell_type": "code",
   "execution_count": 6,
   "id": "e5683924",
   "metadata": {},
   "outputs": [
    {
     "data": {
      "text/html": [
       "<div>\n",
       "<style scoped>\n",
       "    .dataframe tbody tr th:only-of-type {\n",
       "        vertical-align: middle;\n",
       "    }\n",
       "\n",
       "    .dataframe tbody tr th {\n",
       "        vertical-align: top;\n",
       "    }\n",
       "\n",
       "    .dataframe thead th {\n",
       "        text-align: right;\n",
       "    }\n",
       "</style>\n",
       "<table border=\"1\" class=\"dataframe\">\n",
       "  <thead>\n",
       "    <tr style=\"text-align: right;\">\n",
       "      <th></th>\n",
       "      <th>rating_raw</th>\n",
       "      <th>rating</th>\n",
       "    </tr>\n",
       "  </thead>\n",
       "  <tbody>\n",
       "    <tr>\n",
       "      <th>0</th>\n",
       "      <td>5,0 von 5 Sternen</td>\n",
       "      <td>5.0</td>\n",
       "    </tr>\n",
       "    <tr>\n",
       "      <th>1</th>\n",
       "      <td>5,0 von 5 Sternen</td>\n",
       "      <td>5.0</td>\n",
       "    </tr>\n",
       "    <tr>\n",
       "      <th>2</th>\n",
       "      <td>4,0 von 5 Sternen</td>\n",
       "      <td>4.0</td>\n",
       "    </tr>\n",
       "    <tr>\n",
       "      <th>3</th>\n",
       "      <td>5,0 von 5 Sternen</td>\n",
       "      <td>5.0</td>\n",
       "    </tr>\n",
       "    <tr>\n",
       "      <th>4</th>\n",
       "      <td>5,0 von 5 Sternen</td>\n",
       "      <td>5.0</td>\n",
       "    </tr>\n",
       "  </tbody>\n",
       "</table>\n",
       "</div>"
      ],
      "text/plain": [
       "          rating_raw  rating\n",
       "0  5,0 von 5 Sternen     5.0\n",
       "1  5,0 von 5 Sternen     5.0\n",
       "2  4,0 von 5 Sternen     4.0\n",
       "3  5,0 von 5 Sternen     5.0\n",
       "4  5,0 von 5 Sternen     5.0"
      ]
     },
     "execution_count": 6,
     "metadata": {},
     "output_type": "execute_result"
    }
   ],
   "source": [
    "# Rename columns for clarity\n",
    "df = df.rename(columns={\n",
    "    'content': 'review_text',\n",
    "    'rating': 'rating_raw'\n",
    "})\n",
    "\n",
    "# Extract numeric rating from German format (e.g., \"4,0 von 5 Sternen\")\n",
    "df['rating'] = df['rating_raw'].str.extract(r'(\\d+,\\d+)')\n",
    "df['rating'] = df['rating'].str.replace(',', '.').astype(float)\n",
    "\n",
    "# Preview cleaned rating column\n",
    "df[['rating_raw', 'rating']].head()\n"
   ]
  },
  {
   "cell_type": "markdown",
   "id": "dfb6a842",
   "metadata": {},
   "source": [
    "### 3. Compute Review Length"
   ]
  },
  {
   "cell_type": "code",
   "execution_count": 7,
   "id": "039761d8",
   "metadata": {},
   "outputs": [
    {
     "data": {
      "text/html": [
       "<div>\n",
       "<style scoped>\n",
       "    .dataframe tbody tr th:only-of-type {\n",
       "        vertical-align: middle;\n",
       "    }\n",
       "\n",
       "    .dataframe tbody tr th {\n",
       "        vertical-align: top;\n",
       "    }\n",
       "\n",
       "    .dataframe thead th {\n",
       "        text-align: right;\n",
       "    }\n",
       "</style>\n",
       "<table border=\"1\" class=\"dataframe\">\n",
       "  <thead>\n",
       "    <tr style=\"text-align: right;\">\n",
       "      <th></th>\n",
       "      <th>review_text</th>\n",
       "      <th>review_length</th>\n",
       "    </tr>\n",
       "  </thead>\n",
       "  <tbody>\n",
       "    <tr>\n",
       "      <th>0</th>\n",
       "      <td>Ich bin sehr zufrieden mit dem iPhone 11. Der ...</td>\n",
       "      <td>28</td>\n",
       "    </tr>\n",
       "    <tr>\n",
       "      <th>1</th>\n",
       "      <td>gestern bestellt, heute geliefert. besser geht...</td>\n",
       "      <td>13</td>\n",
       "    </tr>\n",
       "    <tr>\n",
       "      <th>2</th>\n",
       "      <td>Ich mach es mal kurz:\\nGut: Optik, Verarbeitun...</td>\n",
       "      <td>16</td>\n",
       "    </tr>\n",
       "    <tr>\n",
       "      <th>3</th>\n",
       "      <td>Amazon hat wieder super-schnell geliefert. Dan...</td>\n",
       "      <td>71</td>\n",
       "    </tr>\n",
       "    <tr>\n",
       "      <th>4</th>\n",
       "      <td>Viel früher angekommen als angegeben, tolles H...</td>\n",
       "      <td>26</td>\n",
       "    </tr>\n",
       "  </tbody>\n",
       "</table>\n",
       "</div>"
      ],
      "text/plain": [
       "                                         review_text  review_length\n",
       "0  Ich bin sehr zufrieden mit dem iPhone 11. Der ...             28\n",
       "1  gestern bestellt, heute geliefert. besser geht...             13\n",
       "2  Ich mach es mal kurz:\\nGut: Optik, Verarbeitun...             16\n",
       "3  Amazon hat wieder super-schnell geliefert. Dan...             71\n",
       "4  Viel früher angekommen als angegeben, tolles H...             26"
      ]
     },
     "execution_count": 7,
     "metadata": {},
     "output_type": "execute_result"
    }
   ],
   "source": [
    "# Calculate number of words in each review\n",
    "df['review_length'] = df['review_text'].astype(str).apply(lambda x: len(x.split()))\n",
    "\n",
    "# Quick preview\n",
    "df[['review_text', 'review_length']].head()"
   ]
  },
  {
   "cell_type": "markdown",
   "id": "34f42d39",
   "metadata": {},
   "source": [
    "### 4. Apply Heuristic Labeling Rules"
   ]
  },
  {
   "cell_type": "code",
   "execution_count": 8,
   "id": "a21689ca",
   "metadata": {},
   "outputs": [
    {
     "data": {
      "text/plain": [
       "label\n",
       "0    2716\n",
       "1     697\n",
       "Name: count, dtype: int64"
      ]
     },
     "execution_count": 8,
     "metadata": {},
     "output_type": "execute_result"
    }
   ],
   "source": [
    "# Define rule-based labeling function\n",
    "def label_review(row):\n",
    "    if row['rating'] < 4.0:\n",
    "        return 0  # genuine\n",
    "    elif row['rating'] == 5.0 and row['review_length'] < 30:\n",
    "        return 1  # possibly fake\n",
    "    elif any(word in str(row['review_text']).lower() for word in ['beste', 'unglaublich', 'perfekt']):\n",
    "        return 1  # possibly fake\n",
    "    else:\n",
    "        return 0  # default genuine\n",
    "\n",
    "# Apply labeling\n",
    "df['label'] = df.apply(label_review, axis=1)\n",
    "\n",
    "# Show label distribution\n",
    "df['label'].value_counts()\n"
   ]
  },
  {
   "cell_type": "markdown",
   "id": "8f90c4d3",
   "metadata": {},
   "source": [
    "### 5. Finalize Cleaned DataFrame"
   ]
  },
  {
   "cell_type": "code",
   "execution_count": 9,
   "id": "2046cf02",
   "metadata": {},
   "outputs": [
    {
     "data": {
      "text/html": [
       "<div>\n",
       "<style scoped>\n",
       "    .dataframe tbody tr th:only-of-type {\n",
       "        vertical-align: middle;\n",
       "    }\n",
       "\n",
       "    .dataframe tbody tr th {\n",
       "        vertical-align: top;\n",
       "    }\n",
       "\n",
       "    .dataframe thead th {\n",
       "        text-align: right;\n",
       "    }\n",
       "</style>\n",
       "<table border=\"1\" class=\"dataframe\">\n",
       "  <thead>\n",
       "    <tr style=\"text-align: right;\">\n",
       "      <th></th>\n",
       "      <th>author</th>\n",
       "      <th>title</th>\n",
       "      <th>review_text</th>\n",
       "      <th>rating</th>\n",
       "      <th>review_length</th>\n",
       "      <th>label</th>\n",
       "    </tr>\n",
       "  </thead>\n",
       "  <tbody>\n",
       "    <tr>\n",
       "      <th>0</th>\n",
       "      <td>MHS</td>\n",
       "      <td>Das Beste iPhone aller Zeiten</td>\n",
       "      <td>Ich bin sehr zufrieden mit dem iPhone 11. Der ...</td>\n",
       "      <td>5.0</td>\n",
       "      <td>28</td>\n",
       "      <td>1</td>\n",
       "    </tr>\n",
       "    <tr>\n",
       "      <th>1</th>\n",
       "      <td>Amazon Customer</td>\n",
       "      <td>besser als beim hersteller</td>\n",
       "      <td>gestern bestellt, heute geliefert. besser geht...</td>\n",
       "      <td>5.0</td>\n",
       "      <td>13</td>\n",
       "      <td>1</td>\n",
       "    </tr>\n",
       "    <tr>\n",
       "      <th>2</th>\n",
       "      <td>Joko Müller</td>\n",
       "      <td>Gutes Handy mit kleinen Schwächen</td>\n",
       "      <td>Ich mach es mal kurz:\\nGut: Optik, Verarbeitun...</td>\n",
       "      <td>4.0</td>\n",
       "      <td>16</td>\n",
       "      <td>0</td>\n",
       "    </tr>\n",
       "    <tr>\n",
       "      <th>3</th>\n",
       "      <td>Davorko</td>\n",
       "      <td>Ein sehr edles Stück dieses IPHONE 11</td>\n",
       "      <td>Amazon hat wieder super-schnell geliefert. Dan...</td>\n",
       "      <td>5.0</td>\n",
       "      <td>71</td>\n",
       "      <td>1</td>\n",
       "    </tr>\n",
       "    <tr>\n",
       "      <th>4</th>\n",
       "      <td>Chiara Natalia Sozzi</td>\n",
       "      <td>Super</td>\n",
       "      <td>Viel früher angekommen als angegeben, tolles H...</td>\n",
       "      <td>5.0</td>\n",
       "      <td>26</td>\n",
       "      <td>1</td>\n",
       "    </tr>\n",
       "  </tbody>\n",
       "</table>\n",
       "</div>"
      ],
      "text/plain": [
       "                 author                                  title  \\\n",
       "0                   MHS          Das Beste iPhone aller Zeiten   \n",
       "1       Amazon Customer             besser als beim hersteller   \n",
       "2           Joko Müller      Gutes Handy mit kleinen Schwächen   \n",
       "3               Davorko  Ein sehr edles Stück dieses IPHONE 11   \n",
       "4  Chiara Natalia Sozzi                                  Super   \n",
       "\n",
       "                                         review_text  rating  review_length  \\\n",
       "0  Ich bin sehr zufrieden mit dem iPhone 11. Der ...     5.0             28   \n",
       "1  gestern bestellt, heute geliefert. besser geht...     5.0             13   \n",
       "2  Ich mach es mal kurz:\\nGut: Optik, Verarbeitun...     4.0             16   \n",
       "3  Amazon hat wieder super-schnell geliefert. Dan...     5.0             71   \n",
       "4  Viel früher angekommen als angegeben, tolles H...     5.0             26   \n",
       "\n",
       "   label  \n",
       "0      1  \n",
       "1      1  \n",
       "2      0  \n",
       "3      1  \n",
       "4      1  "
      ]
     },
     "execution_count": 9,
     "metadata": {},
     "output_type": "execute_result"
    }
   ],
   "source": [
    "# Keep only relevant columns\n",
    "df_final = df[['author', 'title', 'review_text', 'rating', 'review_length', 'label']]\n",
    "\n",
    "# Preview final cleaned dataset\n",
    "df_final.head()"
   ]
  },
  {
   "cell_type": "markdown",
   "id": "9fa4a57a",
   "metadata": {},
   "source": [
    "## Text Preprocessing (German)"
   ]
  },
  {
   "cell_type": "markdown",
   "id": "2bbd5b21",
   "metadata": {},
   "source": [
    "###  Preprocessing Code"
   ]
  },
  {
   "cell_type": "code",
   "execution_count": 10,
   "id": "c510cd4e",
   "metadata": {},
   "outputs": [
    {
     "name": "stderr",
     "output_type": "stream",
     "text": [
      "C:\\Users\\darsh\\AppData\\Local\\Temp\\ipykernel_17352\\466136715.py:21: SettingWithCopyWarning: \n",
      "A value is trying to be set on a copy of a slice from a DataFrame.\n",
      "Try using .loc[row_indexer,col_indexer] = value instead\n",
      "\n",
      "See the caveats in the documentation: https://pandas.pydata.org/pandas-docs/stable/user_guide/indexing.html#returning-a-view-versus-a-copy\n",
      "  df_final['cleaned_text'] = df_final['review_text'].astype(str).apply(preprocess_text)\n"
     ]
    },
    {
     "data": {
      "text/html": [
       "<div>\n",
       "<style scoped>\n",
       "    .dataframe tbody tr th:only-of-type {\n",
       "        vertical-align: middle;\n",
       "    }\n",
       "\n",
       "    .dataframe tbody tr th {\n",
       "        vertical-align: top;\n",
       "    }\n",
       "\n",
       "    .dataframe thead th {\n",
       "        text-align: right;\n",
       "    }\n",
       "</style>\n",
       "<table border=\"1\" class=\"dataframe\">\n",
       "  <thead>\n",
       "    <tr style=\"text-align: right;\">\n",
       "      <th></th>\n",
       "      <th>review_text</th>\n",
       "      <th>cleaned_text</th>\n",
       "    </tr>\n",
       "  </thead>\n",
       "  <tbody>\n",
       "    <tr>\n",
       "      <th>0</th>\n",
       "      <td>Ich bin sehr zufrieden mit dem iPhone 11. Der ...</td>\n",
       "      <td>zufrieden Iphone Wechsel Iphone s riesig quant...</td>\n",
       "    </tr>\n",
       "    <tr>\n",
       "      <th>1</th>\n",
       "      <td>gestern bestellt, heute geliefert. besser geht...</td>\n",
       "      <td>gestern bestellen liefern gehts rot sehen einf...</td>\n",
       "    </tr>\n",
       "    <tr>\n",
       "      <th>2</th>\n",
       "      <td>Ich mach es mal kurz:\\nGut: Optik, Verarbeitun...</td>\n",
       "      <td>mal kurzgut Optik Verarbeitung betriebssystem ...</td>\n",
       "    </tr>\n",
       "    <tr>\n",
       "      <th>3</th>\n",
       "      <td>Amazon hat wieder super-schnell geliefert. Dan...</td>\n",
       "      <td>Amazon superschnell liefern danken Iphone sowe...</td>\n",
       "    </tr>\n",
       "    <tr>\n",
       "      <th>4</th>\n",
       "      <td>Viel früher angekommen als angegeben, tolles H...</td>\n",
       "      <td>früh ankommen angeben toll Handy xr Muss sagen...</td>\n",
       "    </tr>\n",
       "  </tbody>\n",
       "</table>\n",
       "</div>"
      ],
      "text/plain": [
       "                                         review_text  \\\n",
       "0  Ich bin sehr zufrieden mit dem iPhone 11. Der ...   \n",
       "1  gestern bestellt, heute geliefert. besser geht...   \n",
       "2  Ich mach es mal kurz:\\nGut: Optik, Verarbeitun...   \n",
       "3  Amazon hat wieder super-schnell geliefert. Dan...   \n",
       "4  Viel früher angekommen als angegeben, tolles H...   \n",
       "\n",
       "                                        cleaned_text  \n",
       "0  zufrieden Iphone Wechsel Iphone s riesig quant...  \n",
       "1  gestern bestellen liefern gehts rot sehen einf...  \n",
       "2  mal kurzgut Optik Verarbeitung betriebssystem ...  \n",
       "3  Amazon superschnell liefern danken Iphone sowe...  \n",
       "4  früh ankommen angeben toll Handy xr Muss sagen...  "
      ]
     },
     "execution_count": 10,
     "metadata": {},
     "output_type": "execute_result"
    }
   ],
   "source": [
    "import spacy\n",
    "import re\n",
    "from spacy.lang.de.stop_words import STOP_WORDS\n",
    "\n",
    "# Load German language model\n",
    "nlp = spacy.load(\"de_core_news_sm\")\n",
    "\n",
    "# Function for text cleaning and lemmatization\n",
    "def preprocess_text(text):\n",
    "    # Convert to lowercase\n",
    "    text = text.lower()\n",
    "    # Remove special characters and numbers\n",
    "    text = re.sub(r'[^a-zA-ZäöüßÄÖÜ ]', '', text)\n",
    "    # Process using spaCy\n",
    "    doc = nlp(text)\n",
    "    # Lemmatize and remove stopwords\n",
    "    tokens = [token.lemma_ for token in doc if token.lemma_ not in STOP_WORDS and token.is_alpha]\n",
    "    return \" \".join(tokens)\n",
    "\n",
    "# Apply to a sample (to test speed first)\n",
    "df_final['cleaned_text'] = df_final['review_text'].astype(str).apply(preprocess_text)\n",
    "\n",
    "# Preview cleaned output\n",
    "df_final[['review_text', 'cleaned_text']].head()\n"
   ]
  },
  {
   "cell_type": "markdown",
   "id": "b54cc63e",
   "metadata": {},
   "source": [
    "## TF-IDF Vectorization (German)"
   ]
  },
  {
   "cell_type": "markdown",
   "id": "96bcba57",
   "metadata": {},
   "source": [
    "### Import & Apply TF-IDF Vectorizer\n"
   ]
  },
  {
   "cell_type": "code",
   "execution_count": 11,
   "id": "318c62de",
   "metadata": {},
   "outputs": [
    {
     "data": {
      "text/plain": [
       "(3413, 5000)"
      ]
     },
     "execution_count": 11,
     "metadata": {},
     "output_type": "execute_result"
    }
   ],
   "source": [
    "from sklearn.feature_extraction.text import TfidfVectorizer\n",
    "\n",
    "# Use top 5000 features to avoid sparsity\n",
    "tfidf_vectorizer = TfidfVectorizer(max_features=5000)\n",
    "\n",
    "# Apply to cleaned text\n",
    "X_tfidf = tfidf_vectorizer.fit_transform(df_final['cleaned_text'])\n",
    "\n",
    "# Show shape and type\n",
    "X_tfidf.shape"
   ]
  },
  {
   "cell_type": "markdown",
   "id": "46f5985b",
   "metadata": {},
   "source": [
    "### Prepare Feature Matrix and Labels"
   ]
  },
  {
   "cell_type": "code",
   "execution_count": 12,
   "id": "61ac4c19",
   "metadata": {},
   "outputs": [],
   "source": [
    "# Define features (X) and labels (y)\n",
    "X = X_tfidf\n",
    "y = df_final['label']"
   ]
  },
  {
   "cell_type": "markdown",
   "id": "641ca285",
   "metadata": {},
   "source": [
    "### Optional: See top features (for analysis or report appendix)"
   ]
  },
  {
   "cell_type": "code",
   "execution_count": 13,
   "id": "dd842cea",
   "metadata": {},
   "outputs": [
    {
     "name": "stdout",
     "output_type": "stream",
     "text": [
      "Top features: ['aa' 'aaa' 'aan' 'abbekommen' 'abbilden' 'abbrechen' 'abbricht'\n",
      " 'abdecken' 'abdeckung' 'abdunkel']\n"
     ]
    }
   ],
   "source": [
    "# View top 10 TF-IDF features\n",
    "feature_names = tfidf_vectorizer.get_feature_names_out()\n",
    "top_features = feature_names[:10]\n",
    "print(\"Top features:\", top_features)"
   ]
  },
  {
   "cell_type": "markdown",
   "id": "bb354524",
   "metadata": {},
   "source": [
    "## Model Building"
   ]
  },
  {
   "cell_type": "markdown",
   "id": "f06e32ff",
   "metadata": {},
   "source": [
    "### Split Data for Training & Testing"
   ]
  },
  {
   "cell_type": "code",
   "execution_count": 14,
   "id": "c3eed947",
   "metadata": {},
   "outputs": [
    {
     "data": {
      "text/plain": [
       "((2730, 5000), (683, 5000), (2730,), (683,))"
      ]
     },
     "execution_count": 14,
     "metadata": {},
     "output_type": "execute_result"
    }
   ],
   "source": [
    "from sklearn.model_selection import train_test_split\n",
    "\n",
    "# Split data (80% train, 20% test)\n",
    "X_train, X_test, y_train, y_test = train_test_split(X, y, test_size=0.2, random_state=42, stratify=y)\n",
    "\n",
    "X_train.shape, X_test.shape, y_train.shape, y_test.shape"
   ]
  },
  {
   "cell_type": "markdown",
   "id": "6573cc7a",
   "metadata": {},
   "source": [
    "### Train Logistic Regression Model"
   ]
  },
  {
   "cell_type": "code",
   "execution_count": 15,
   "id": "3c5e01d0",
   "metadata": {},
   "outputs": [
    {
     "name": "stdout",
     "output_type": "stream",
     "text": [
      "Logistic Regression Report:\n",
      "               precision    recall  f1-score   support\n",
      "\n",
      "           0       0.85      0.98      0.91       544\n",
      "           1       0.77      0.31      0.44       139\n",
      "\n",
      "    accuracy                           0.84       683\n",
      "   macro avg       0.81      0.64      0.67       683\n",
      "weighted avg       0.83      0.84      0.81       683\n",
      "\n"
     ]
    }
   ],
   "source": [
    "from sklearn.linear_model import LogisticRegression\n",
    "from sklearn.metrics import classification_report\n",
    "\n",
    "# Initialize and train\n",
    "logreg = LogisticRegression(max_iter=1000)\n",
    "logreg.fit(X_train, y_train)\n",
    "\n",
    "# Predict and evaluate\n",
    "y_pred_logreg = logreg.predict(X_test)\n",
    "print(\"Logistic Regression Report:\\n\", classification_report(y_test, y_pred_logreg))"
   ]
  },
  {
   "cell_type": "markdown",
   "id": "10d34521",
   "metadata": {},
   "source": [
    "### Add ROC-AUC Evaluation"
   ]
  },
  {
   "cell_type": "code",
   "execution_count": 17,
   "id": "4aa76609",
   "metadata": {},
   "outputs": [
    {
     "name": "stdout",
     "output_type": "stream",
     "text": [
      "ROC AUC Score: 0.8992\n"
     ]
    },
    {
     "data": {
      "image/png": "[encoded data removed]",
      "text/plain": [
       "<Figure size 600x400 with 1 Axes>"
      ]
     },
     "metadata": {},
     "output_type": "display_data"
    }
   ],
   "source": [
    "from sklearn.metrics import roc_auc_score, roc_curve\n",
    "import matplotlib.pyplot as plt\n",
    "\n",
    "# Predict probabilities\n",
    "y_proba = logreg.predict_proba(X_test)[:, 1]\n",
    "\n",
    "# ROC AUC Score\n",
    "roc_score = roc_auc_score(y_test, y_proba)\n",
    "print(\"ROC AUC Score:\", round(roc_score, 4))\n",
    "\n",
    "# Plot ROC Curve\n",
    "fpr, tpr, thresholds = roc_curve(y_test, y_proba)\n",
    "plt.figure(figsize=(6, 4))\n",
    "plt.plot(fpr, tpr, label=f\"AUC = {roc_score:.2f}\")\n",
    "plt.plot([0, 1], [0, 1], 'k--', label=\"Random Classifier\")\n",
    "plt.xlabel(\"False Positive Rate\")\n",
    "plt.ylabel(\"True Positive Rate\")\n",
    "plt.title(\"ROC Curve\")\n",
    "plt.legend()\n",
    "plt.grid(True)\n",
    "plt.show()\n"
   ]
  },
  {
   "cell_type": "markdown",
   "id": "6c319f0e",
   "metadata": {},
   "source": [
    "### Train Random Forest Model (for comparison)"
   ]
  },
  {
   "cell_type": "code",
   "execution_count": 19,
   "id": "fb267a82",
   "metadata": {},
   "outputs": [
    {
     "name": "stdout",
     "output_type": "stream",
     "text": [
      "Random Forest Report:\n",
      "               precision    recall  f1-score   support\n",
      "\n",
      "           0       0.89      0.94      0.91       544\n",
      "           1       0.68      0.54      0.60       139\n",
      "\n",
      "    accuracy                           0.86       683\n",
      "   macro avg       0.79      0.74      0.76       683\n",
      "weighted avg       0.85      0.86      0.85       683\n",
      "\n"
     ]
    }
   ],
   "source": [
    "from sklearn.ensemble import RandomForestClassifier\n",
    "\n",
    "# Initialize and train\n",
    "rf = RandomForestClassifier(n_estimators=100, random_state=42)\n",
    "rf.fit(X_train, y_train)\n",
    "\n",
    "# Predict and evaluate\n",
    "y_pred_rf = rf.predict(X_test)\n",
    "print(\"Random Forest Report:\\n\", classification_report(y_test, y_pred_rf))"
   ]
  },
  {
   "cell_type": "markdown",
   "id": "a07ba452",
   "metadata": {},
   "source": [
    "### SHAP Analysis on Random Forest"
   ]
  },
  {
   "cell_type": "code",
   "execution_count": 20,
   "id": "88d14539",
   "metadata": {},
   "outputs": [
    {
     "name": "stderr",
     "output_type": "stream",
     "text": [
      "c:\\Users\\darsh\\AppData\\Local\\Programs\\Python\\Python312\\Lib\\site-packages\\numpy\\lib\\_nanfunctions_impl.py:1437: RuntimeWarning: All-NaN slice encountered\n",
      "  return _nanquantile_unchecked(\n"
     ]
    },
    {
     "data": {
      "image/png": "[encoded data removed]",
      "text/plain": [
       "<Figure size 800x230 with 1 Axes>"
      ]
     },
     "metadata": {},
     "output_type": "display_data"
    }
   ],
   "source": [
    "import shap\n",
    "\n",
    "# Convert sparse TF-IDF test data to dense format\n",
    "X_sample = X_test[:10].toarray()\n",
    "\n",
    "# Initialize SHAP explainer for tree models\n",
    "explainer = shap.Explainer(rf, X_sample)\n",
    "\n",
    "# Calculate SHAP values for class 1 (fake)\n",
    "shap_values = explainer(X_sample)\n",
    "\n",
    "# Plot the feature importance\n",
    "# shap.plots.beeswarm(shap_values)\n",
    "shap.plots.beeswarm(shap_values[1])\n",
    "\n"
   ]
  },
  {
   "cell_type": "code",
   "execution_count": 38,
   "id": "3df91df0",
   "metadata": {},
   "outputs": [
    {
     "name": "stderr",
     "output_type": "stream",
     "text": [
      "c:\\Users\\darsh\\AppData\\Local\\Programs\\Python\\Python312\\Lib\\site-packages\\numpy\\lib\\_nanfunctions_impl.py:1437: RuntimeWarning: All-NaN slice encountered\n",
      "  return _nanquantile_unchecked(\n"
     ]
    },
    {
     "data": {
      "image/png": "[encoded data removed]",
      "text/plain": [
       "<Figure size 800x230 with 1 Axes>"
      ]
     },
     "metadata": {},
     "output_type": "display_data"
    }
   ],
   "source": [
    "shap.plots.beeswarm(shap_values[0])"
   ]
  },
  {
   "cell_type": "code",
   "execution_count": 53,
   "id": "70b0e97a",
   "metadata": {},
   "outputs": [
    {
     "name": "stdout",
     "output_type": "stream",
     "text": [
      "<class 'shap._explanation.Explanation'>\n",
      "(100, 1000, 2)\n"
     ]
    },
    {
     "data": {
      "image/png": "[encoded data removed]",
      "text/plain": [
       "<Figure size 800x550 with 2 Axes>"
      ]
     },
     "metadata": {},
     "output_type": "display_data"
    }
   ],
   "source": [
    "# 1. Define text and target\n",
    "corpus = df_final['cleaned_text'].values\n",
    "y = df_final['label'].values\n",
    "\n",
    "# 2. Vectorize the cleaned text\n",
    "from sklearn.feature_extraction.text import TfidfVectorizer\n",
    "vectorizer = TfidfVectorizer(max_features=1000)\n",
    "X = vectorizer.fit_transform(corpus)\n",
    "\n",
    "# 3. Train/test split\n",
    "from sklearn.model_selection import train_test_split\n",
    "X_train, X_test, y_train, y_test = train_test_split(X, y, test_size=0.2, random_state=42)\n",
    "\n",
    "# 4. Train the Random Forest model\n",
    "from sklearn.ensemble import RandomForestClassifier\n",
    "rf = RandomForestClassifier(n_estimators=100, random_state=42)\n",
    "rf.fit(X_train, y_train)\n",
    "\n",
    "# 5. Prepare for SHAP - convert to dense format with feature names\n",
    "try:\n",
    "    feature_names = vectorizer.get_feature_names_out()\n",
    "except:\n",
    "    feature_names = vectorizer.get_feature_names()\n",
    "\n",
    "import pandas as pd\n",
    "X_dense = pd.DataFrame(X_test.toarray(), columns=feature_names)\n",
    "X_sample = X_dense.sample(100, random_state=42)\n",
    "\n",
    "# 6. SHAP Explanation\n",
    "import shap\n",
    "explainer = shap.Explainer(rf, X_sample)\n",
    "shap_values = explainer(X_sample)\n",
    "\n",
    "# 7. Plot SHAP beeswarm chart\n",
    "# shap.plots.beeswarm(shap_values[1])\n",
    "print(type(shap_values))\n",
    "print(shap_values.shape)\n",
    "shap.plots.beeswarm(shap_values[..., 0])  # For class 0"
   ]
  },
  {
   "cell_type": "code",
   "execution_count": 54,
   "id": "0dd128cc",
   "metadata": {},
   "outputs": [
    {
     "data": {
      "image/png": "[encoded data removed]",
      "text/plain": [
       "<Figure size 800x550 with 2 Axes>"
      ]
     },
     "metadata": {},
     "output_type": "display_data"
    }
   ],
   "source": [
    "shap.plots.beeswarm(shap_values[..., 1])  # For class 1"
   ]
  }
 ],
 "metadata": {
  "kernelspec": {
   "display_name": "Python 3",
   "language": "python",
   "name": "python3"
  },
  "language_info": {
   "codemirror_mode": {
    "name": "ipython",
    "version": 3
   },
   "file_extension": ".py",
   "mimetype": "text/x-python",
   "name": "python",
   "nbconvert_exporter": "python",
   "pygments_lexer": "ipython3",
   "version": "3.12.5"
  }
 },
 "nbformat": 4,
 "nbformat_minor": 5
}
